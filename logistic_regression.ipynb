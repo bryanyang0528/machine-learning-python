{
 "cells": [
  {
   "cell_type": "code",
   "execution_count": 216,
   "metadata": {
    "collapsed": true
   },
   "outputs": [],
   "source": [
    "%matplotlib inline\n",
    "import numpy as np"
   ]
  },
  {
   "cell_type": "code",
   "execution_count": null,
   "metadata": {
    "collapsed": true
   },
   "outputs": [],
   "source": []
  },
  {
   "cell_type": "code",
   "execution_count": 6,
   "metadata": {
    "collapsed": true
   },
   "outputs": [],
   "source": [
    "N = 100\n",
    "D = 2"
   ]
  },
  {
   "cell_type": "code",
   "execution_count": 8,
   "metadata": {
    "collapsed": false
   },
   "outputs": [],
   "source": [
    "X = np.random.randn(N, D)"
   ]
  },
  {
   "cell_type": "code",
   "execution_count": 11,
   "metadata": {
    "collapsed": false
   },
   "outputs": [
    {
     "data": {
      "text/plain": [
       "(100, 2)"
      ]
     },
     "execution_count": 11,
     "metadata": {},
     "output_type": "execute_result"
    }
   ],
   "source": [
    "np.shape(X)"
   ]
  },
  {
   "cell_type": "code",
   "execution_count": 37,
   "metadata": {
    "collapsed": true
   },
   "outputs": [],
   "source": [
    "# 常數項\n",
    "ones = np.array([[1]*N]).T\n"
   ]
  },
  {
   "cell_type": "code",
   "execution_count": 39,
   "metadata": {
    "collapsed": false
   },
   "outputs": [
    {
     "data": {
      "text/plain": [
       "(100, 1)"
      ]
     },
     "execution_count": 39,
     "metadata": {},
     "output_type": "execute_result"
    }
   ],
   "source": [
    "ones.shape"
   ]
  },
  {
   "cell_type": "code",
   "execution_count": 40,
   "metadata": {
    "collapsed": false
   },
   "outputs": [],
   "source": [
    "Xb = np.concatenate([ones, X], axis=1)"
   ]
  },
  {
   "cell_type": "code",
   "execution_count": 41,
   "metadata": {
    "collapsed": false
   },
   "outputs": [
    {
     "data": {
      "text/plain": [
       "array([[  1.00000000e+00,   9.93751891e-01,   6.66752005e-01],\n",
       "       [  1.00000000e+00,   3.77411084e-01,  -2.75911808e-01],\n",
       "       [  1.00000000e+00,  -1.06539594e+00,   6.78236568e-01],\n",
       "       [  1.00000000e+00,   5.85289875e-01,   3.50537352e-01],\n",
       "       [  1.00000000e+00,   3.73202539e-04,  -7.85370598e-01],\n",
       "       [  1.00000000e+00,  -5.17690595e-01,  -6.00503426e-01],\n",
       "       [  1.00000000e+00,   2.50419729e-01,  -1.97391658e-02],\n",
       "       [  1.00000000e+00,   9.35649812e-01,   1.58260119e+00],\n",
       "       [  1.00000000e+00,  -1.39902635e+00,   4.40801514e-01],\n",
       "       [  1.00000000e+00,  -1.56059368e+00,   2.58841172e-01],\n",
       "       [  1.00000000e+00,   1.20245547e+00,  -5.27449027e-01],\n",
       "       [  1.00000000e+00,   5.68798233e-01,   1.27989234e+00],\n",
       "       [  1.00000000e+00,  -1.94083376e+00,   7.85364277e-01],\n",
       "       [  1.00000000e+00,  -5.47674725e-01,  -4.61496228e-01],\n",
       "       [  1.00000000e+00,   1.15682927e+00,  -6.11882423e-01],\n",
       "       [  1.00000000e+00,  -1.04944631e+00,   1.53769888e-01],\n",
       "       [  1.00000000e+00,  -4.77018041e-01,   7.19466067e-01],\n",
       "       [  1.00000000e+00,   1.26937437e+00,  -4.23274840e-01],\n",
       "       [  1.00000000e+00,   2.71184117e-01,  -6.02906394e-01],\n",
       "       [  1.00000000e+00,  -1.03980268e+00,  -2.33020826e-01],\n",
       "       [  1.00000000e+00,  -3.93102497e-01,   8.40331277e-01],\n",
       "       [  1.00000000e+00,   1.69474533e+00,   1.81684274e-01],\n",
       "       [  1.00000000e+00,   2.87085602e-01,  -6.39326765e-01],\n",
       "       [  1.00000000e+00,  -1.97205899e+00,  -8.98187299e-03],\n",
       "       [  1.00000000e+00,  -1.06484606e-01,  -5.27449639e-01],\n",
       "       [  1.00000000e+00,   1.29049731e+00,  -6.09356382e-01],\n",
       "       [  1.00000000e+00,  -2.09556086e+00,  -1.53734837e+00],\n",
       "       [  1.00000000e+00,   1.40293339e+00,   4.71114919e-01],\n",
       "       [  1.00000000e+00,   2.07364324e-01,   1.72590826e-01],\n",
       "       [  1.00000000e+00,   6.68958704e-01,   1.61005999e+00],\n",
       "       [  1.00000000e+00,  -1.39334915e+00,  -9.80094489e-01],\n",
       "       [  1.00000000e+00,   4.38058072e-01,   3.09098192e-01],\n",
       "       [  1.00000000e+00,   1.19328161e+00,  -5.50545672e-01],\n",
       "       [  1.00000000e+00,  -1.04477407e+00,   4.41009468e-01],\n",
       "       [  1.00000000e+00,  -8.26631709e-01,  -8.71048482e-02],\n",
       "       [  1.00000000e+00,   7.23647697e-01,  -1.97469679e+00],\n",
       "       [  1.00000000e+00,   2.35537501e-01,  -1.94855293e-01],\n",
       "       [  1.00000000e+00,  -2.04840787e-01,   4.53355742e-01],\n",
       "       [  1.00000000e+00,   7.14459922e-01,  -4.46881885e-01],\n",
       "       [  1.00000000e+00,   1.16163344e+00,   2.46020187e+00],\n",
       "       [  1.00000000e+00,   1.62742686e+00,   1.49110416e-01],\n",
       "       [  1.00000000e+00,  -3.69667321e-01,   4.63082629e-02],\n",
       "       [  1.00000000e+00,   7.34940255e-02,   7.84390166e-01],\n",
       "       [  1.00000000e+00,   8.44453382e-01,   6.29314468e-01],\n",
       "       [  1.00000000e+00,   4.81639249e-01,  -1.84492148e+00],\n",
       "       [  1.00000000e+00,   1.61459927e-01,   1.09457716e+00],\n",
       "       [  1.00000000e+00,  -5.77991967e-01,  -1.75670163e-02],\n",
       "       [  1.00000000e+00,  -8.30498749e-01,  -3.05755189e-02],\n",
       "       [  1.00000000e+00,  -9.34201380e-01,   2.30659251e-01],\n",
       "       [  1.00000000e+00,   3.59243755e-01,   3.56971079e-01],\n",
       "       [  1.00000000e+00,  -7.04499931e-01,   9.10354536e-01],\n",
       "       [  1.00000000e+00,   4.69353356e-01,   7.75829082e-01],\n",
       "       [  1.00000000e+00,   8.42463835e-01,  -1.88246530e+00],\n",
       "       [  1.00000000e+00,  -1.30264707e+00,   1.98955219e+00],\n",
       "       [  1.00000000e+00,   7.53053406e-01,  -3.81312294e-01],\n",
       "       [  1.00000000e+00,   4.80865962e-01,   1.88697106e-01],\n",
       "       [  1.00000000e+00,  -1.09187528e+00,  -2.24780582e-01],\n",
       "       [  1.00000000e+00,   1.71850556e+00,  -2.70083157e-01],\n",
       "       [  1.00000000e+00,   2.67825011e-01,  -6.61211872e-01],\n",
       "       [  1.00000000e+00,   5.30410888e-01,   1.98198847e+00],\n",
       "       [  1.00000000e+00,   1.13892402e+00,  -2.32774731e-01],\n",
       "       [  1.00000000e+00,   1.62078348e+00,   4.10962368e-02],\n",
       "       [  1.00000000e+00,  -2.47627439e-01,   3.16044037e+00],\n",
       "       [  1.00000000e+00,  -9.30059204e-01,   1.37822706e-01],\n",
       "       [  1.00000000e+00,  -1.08090636e+00,  -5.63022686e-01],\n",
       "       [  1.00000000e+00,   5.92377694e-01,   1.43091049e+00],\n",
       "       [  1.00000000e+00,  -8.11947294e-02,  -2.06003489e+00],\n",
       "       [  1.00000000e+00,  -7.47181445e-01,   1.95489944e-02],\n",
       "       [  1.00000000e+00,  -2.59982526e+00,  -6.30983856e-01],\n",
       "       [  1.00000000e+00,  -1.02557646e+00,   1.33550772e+00],\n",
       "       [  1.00000000e+00,   1.07860066e+00,   1.52006850e-01],\n",
       "       [  1.00000000e+00,   8.59796431e-01,  -6.90396527e-01],\n",
       "       [  1.00000000e+00,  -7.25776213e-01,   9.41723094e-02],\n",
       "       [  1.00000000e+00,  -1.17364972e+00,   6.30329682e-01],\n",
       "       [  1.00000000e+00,  -7.75667191e-01,   5.93624838e-01],\n",
       "       [  1.00000000e+00,  -5.22434025e-01,  -3.56227952e-01],\n",
       "       [  1.00000000e+00,  -9.96928142e-01,   1.41539496e+00],\n",
       "       [  1.00000000e+00,  -8.44561553e-01,   1.08040433e-01],\n",
       "       [  1.00000000e+00,  -1.23422657e+00,   1.36375229e-01],\n",
       "       [  1.00000000e+00,   1.92496166e+00,  -2.33586287e-01],\n",
       "       [  1.00000000e+00,   2.23880422e+00,  -1.07687394e+00],\n",
       "       [  1.00000000e+00,  -7.67752188e-01,   4.28636063e-01],\n",
       "       [  1.00000000e+00,  -6.89343806e-01,  -4.23820005e-01],\n",
       "       [  1.00000000e+00,  -1.27159286e+00,  -2.77033854e-01],\n",
       "       [  1.00000000e+00,   1.23528301e+00,   6.43215198e-02],\n",
       "       [  1.00000000e+00,  -5.88349632e-01,  -1.87040815e-01],\n",
       "       [  1.00000000e+00,  -1.44964972e+00,  -1.27403505e+00],\n",
       "       [  1.00000000e+00,   8.37419957e-01,  -5.15683598e-01],\n",
       "       [  1.00000000e+00,  -8.80778731e-01,   3.11395856e-01],\n",
       "       [  1.00000000e+00,  -1.84565752e+00,   1.25246782e+00],\n",
       "       [  1.00000000e+00,   6.15132985e-01,  -1.20056945e+00],\n",
       "       [  1.00000000e+00,  -1.16037411e+00,   9.26997800e-01],\n",
       "       [  1.00000000e+00,   3.95071546e-01,   5.94187922e-03],\n",
       "       [  1.00000000e+00,   2.72626150e-01,   1.79268726e-01],\n",
       "       [  1.00000000e+00,   1.95708066e-01,  -1.08264302e+00],\n",
       "       [  1.00000000e+00,  -4.56233643e-01,  -1.05387002e+00],\n",
       "       [  1.00000000e+00,   7.60951572e-01,   9.63607708e-01],\n",
       "       [  1.00000000e+00,  -1.11011819e-01,  -2.18758941e+00],\n",
       "       [  1.00000000e+00,  -4.86687475e-01,   9.93042320e-01],\n",
       "       [  1.00000000e+00,  -5.68746299e-01,   3.13975195e-01]])"
      ]
     },
     "execution_count": 41,
     "metadata": {},
     "output_type": "execute_result"
    }
   ],
   "source": [
    "Xb"
   ]
  },
  {
   "cell_type": "code",
   "execution_count": 42,
   "metadata": {
    "collapsed": true
   },
   "outputs": [],
   "source": [
    "w = np.random.randn(D + 1) # 變項數 + 常數項"
   ]
  },
  {
   "cell_type": "code",
   "execution_count": 43,
   "metadata": {
    "collapsed": true
   },
   "outputs": [],
   "source": [
    "z = Xb.dot(w)"
   ]
  },
  {
   "cell_type": "code",
   "execution_count": 46,
   "metadata": {
    "collapsed": true
   },
   "outputs": [],
   "source": [
    "def sigmoid(z):\n",
    "    return 1/(1+ np.exp(-z))"
   ]
  },
  {
   "cell_type": "code",
   "execution_count": 47,
   "metadata": {
    "collapsed": false
   },
   "outputs": [
    {
     "name": "stdout",
     "output_type": "stream",
     "text": [
      "[ 0.61328574  0.74383751  0.04007962  0.57682934  0.78847139  0.51872257\n",
      "  0.59493879  0.21750332  0.03432538  0.03574312  0.95098277  0.20056885\n",
      "  0.00735268  0.44360092  0.95418845  0.09892986  0.0982883   0.94766742\n",
      "  0.8122598   0.18244376  0.09234318  0.9282826   0.82604925  0.02824273\n",
      "  0.66069155  0.963264    0.26514425  0.82200617  0.49113316  0.14211567\n",
      "  0.31355269  0.53129842  0.95214559  0.06208669  0.19994046  0.99111928\n",
      "  0.66189279  0.22062725  0.87696746  0.07912619  0.92418918  0.30515048\n",
      "  0.20331284  0.56609563  0.98300348  0.14598389  0.2545591   0.1832254\n",
      "  0.10485619  0.47533004  0.04937774  0.34183509  0.99149483  0.00262529\n",
      "  0.87151654  0.60254037  0.16713285  0.96804652  0.82681612  0.06256633\n",
      "  0.91102971  0.9359773   0.00206027  0.12228776  0.27262094  0.16635935\n",
      "  0.96935402  0.19184977  0.02854101  0.01361918  0.82223505  0.93432916\n",
      "  0.17740679  0.03625115  0.07476735  0.40838161  0.01242864  0.14585746\n",
      "  0.075678    0.9760671   0.99688678  0.09917438  0.36753169  0.13845317\n",
      "  0.8769338   0.3123242   0.41185782  0.90913646  0.10019273  0.00377992\n",
      "  0.95846005  0.02213785  0.64394071  0.51679308  0.89943202  0.72995467\n",
      "  0.38246348  0.97417083  0.0616254   0.16088391]\n"
     ]
    }
   ],
   "source": [
    "print sigmoid(z)"
   ]
  },
  {
   "cell_type": "code",
   "execution_count": null,
   "metadata": {
    "collapsed": true
   },
   "outputs": [],
   "source": []
  },
  {
   "cell_type": "markdown",
   "metadata": {},
   "source": [
    "# Process data"
   ]
  },
  {
   "cell_type": "code",
   "execution_count": 48,
   "metadata": {
    "collapsed": true
   },
   "outputs": [],
   "source": [
    "import numpy as np\n",
    "import pandas as pd"
   ]
  },
  {
   "cell_type": "code",
   "execution_count": 49,
   "metadata": {
    "collapsed": true
   },
   "outputs": [],
   "source": [
    "df = pd.read_csv(\"../machine_learning_examples/ann_logistic_extra/ecommerce_data.csv\")"
   ]
  },
  {
   "cell_type": "code",
   "execution_count": 81,
   "metadata": {
    "collapsed": false
   },
   "outputs": [
    {
     "data": {
      "text/html": [
       "<div>\n",
       "<table border=\"1\" class=\"dataframe\">\n",
       "  <thead>\n",
       "    <tr style=\"text-align: right;\">\n",
       "      <th></th>\n",
       "      <th>is_mobile</th>\n",
       "      <th>n_products_viewed</th>\n",
       "      <th>visit_duration</th>\n",
       "      <th>is_returning_visitor</th>\n",
       "      <th>time_of_day</th>\n",
       "      <th>user_action</th>\n",
       "    </tr>\n",
       "  </thead>\n",
       "  <tbody>\n",
       "    <tr>\n",
       "      <th>0</th>\n",
       "      <td>1</td>\n",
       "      <td>0</td>\n",
       "      <td>0.657510</td>\n",
       "      <td>0</td>\n",
       "      <td>3</td>\n",
       "      <td>0</td>\n",
       "    </tr>\n",
       "    <tr>\n",
       "      <th>1</th>\n",
       "      <td>1</td>\n",
       "      <td>1</td>\n",
       "      <td>0.568571</td>\n",
       "      <td>0</td>\n",
       "      <td>2</td>\n",
       "      <td>1</td>\n",
       "    </tr>\n",
       "    <tr>\n",
       "      <th>2</th>\n",
       "      <td>1</td>\n",
       "      <td>0</td>\n",
       "      <td>0.042246</td>\n",
       "      <td>1</td>\n",
       "      <td>1</td>\n",
       "      <td>0</td>\n",
       "    </tr>\n",
       "    <tr>\n",
       "      <th>3</th>\n",
       "      <td>1</td>\n",
       "      <td>1</td>\n",
       "      <td>1.659793</td>\n",
       "      <td>1</td>\n",
       "      <td>1</td>\n",
       "      <td>2</td>\n",
       "    </tr>\n",
       "    <tr>\n",
       "      <th>4</th>\n",
       "      <td>0</td>\n",
       "      <td>1</td>\n",
       "      <td>2.014745</td>\n",
       "      <td>1</td>\n",
       "      <td>1</td>\n",
       "      <td>2</td>\n",
       "    </tr>\n",
       "  </tbody>\n",
       "</table>\n",
       "</div>"
      ],
      "text/plain": [
       "   is_mobile  n_products_viewed  visit_duration  is_returning_visitor  \\\n",
       "0          1                  0        0.657510                     0   \n",
       "1          1                  1        0.568571                     0   \n",
       "2          1                  0        0.042246                     1   \n",
       "3          1                  1        1.659793                     1   \n",
       "4          0                  1        2.014745                     1   \n",
       "\n",
       "   time_of_day  user_action  \n",
       "0            3            0  \n",
       "1            2            1  \n",
       "2            1            0  \n",
       "3            1            2  \n",
       "4            1            2  "
      ]
     },
     "execution_count": 81,
     "metadata": {},
     "output_type": "execute_result"
    }
   ],
   "source": [
    "df.head()"
   ]
  },
  {
   "cell_type": "code",
   "execution_count": 82,
   "metadata": {
    "collapsed": false
   },
   "outputs": [
    {
     "data": {
      "text/html": [
       "<div>\n",
       "<table border=\"1\" class=\"dataframe\">\n",
       "  <thead>\n",
       "    <tr style=\"text-align: right;\">\n",
       "      <th></th>\n",
       "      <th>is_mobile</th>\n",
       "      <th>n_products_viewed</th>\n",
       "      <th>visit_duration</th>\n",
       "      <th>is_returning_visitor</th>\n",
       "      <th>time_of_day</th>\n",
       "      <th>user_action</th>\n",
       "    </tr>\n",
       "  </thead>\n",
       "  <tbody>\n",
       "    <tr>\n",
       "      <th>count</th>\n",
       "      <td>500.000000</td>\n",
       "      <td>500.000000</td>\n",
       "      <td>500.000000</td>\n",
       "      <td>500.000000</td>\n",
       "      <td>500.000000</td>\n",
       "      <td>500.00000</td>\n",
       "    </tr>\n",
       "    <tr>\n",
       "      <th>mean</th>\n",
       "      <td>0.486000</td>\n",
       "      <td>0.854000</td>\n",
       "      <td>1.055880</td>\n",
       "      <td>0.518000</td>\n",
       "      <td>1.588000</td>\n",
       "      <td>0.74800</td>\n",
       "    </tr>\n",
       "    <tr>\n",
       "      <th>std</th>\n",
       "      <td>0.500305</td>\n",
       "      <td>1.046362</td>\n",
       "      <td>0.976711</td>\n",
       "      <td>0.500176</td>\n",
       "      <td>1.121057</td>\n",
       "      <td>0.89336</td>\n",
       "    </tr>\n",
       "    <tr>\n",
       "      <th>min</th>\n",
       "      <td>0.000000</td>\n",
       "      <td>0.000000</td>\n",
       "      <td>0.000141</td>\n",
       "      <td>0.000000</td>\n",
       "      <td>0.000000</td>\n",
       "      <td>0.00000</td>\n",
       "    </tr>\n",
       "    <tr>\n",
       "      <th>25%</th>\n",
       "      <td>0.000000</td>\n",
       "      <td>0.000000</td>\n",
       "      <td>0.328550</td>\n",
       "      <td>0.000000</td>\n",
       "      <td>1.000000</td>\n",
       "      <td>0.00000</td>\n",
       "    </tr>\n",
       "    <tr>\n",
       "      <th>50%</th>\n",
       "      <td>0.000000</td>\n",
       "      <td>1.000000</td>\n",
       "      <td>0.804717</td>\n",
       "      <td>1.000000</td>\n",
       "      <td>2.000000</td>\n",
       "      <td>0.00000</td>\n",
       "    </tr>\n",
       "    <tr>\n",
       "      <th>75%</th>\n",
       "      <td>1.000000</td>\n",
       "      <td>1.000000</td>\n",
       "      <td>1.499518</td>\n",
       "      <td>1.000000</td>\n",
       "      <td>3.000000</td>\n",
       "      <td>1.00000</td>\n",
       "    </tr>\n",
       "    <tr>\n",
       "      <th>max</th>\n",
       "      <td>1.000000</td>\n",
       "      <td>4.000000</td>\n",
       "      <td>6.368775</td>\n",
       "      <td>1.000000</td>\n",
       "      <td>3.000000</td>\n",
       "      <td>3.00000</td>\n",
       "    </tr>\n",
       "  </tbody>\n",
       "</table>\n",
       "</div>"
      ],
      "text/plain": [
       "        is_mobile  n_products_viewed  visit_duration  is_returning_visitor  \\\n",
       "count  500.000000         500.000000      500.000000            500.000000   \n",
       "mean     0.486000           0.854000        1.055880              0.518000   \n",
       "std      0.500305           1.046362        0.976711              0.500176   \n",
       "min      0.000000           0.000000        0.000141              0.000000   \n",
       "25%      0.000000           0.000000        0.328550              0.000000   \n",
       "50%      0.000000           1.000000        0.804717              1.000000   \n",
       "75%      1.000000           1.000000        1.499518              1.000000   \n",
       "max      1.000000           4.000000        6.368775              1.000000   \n",
       "\n",
       "       time_of_day  user_action  \n",
       "count   500.000000    500.00000  \n",
       "mean      1.588000      0.74800  \n",
       "std       1.121057      0.89336  \n",
       "min       0.000000      0.00000  \n",
       "25%       1.000000      0.00000  \n",
       "50%       2.000000      0.00000  \n",
       "75%       3.000000      1.00000  \n",
       "max       3.000000      3.00000  "
      ]
     },
     "execution_count": 82,
     "metadata": {},
     "output_type": "execute_result"
    }
   ],
   "source": [
    "df.describe()"
   ]
  },
  {
   "cell_type": "code",
   "execution_count": null,
   "metadata": {
    "collapsed": true
   },
   "outputs": [],
   "source": []
  },
  {
   "cell_type": "code",
   "execution_count": 135,
   "metadata": {
    "collapsed": true
   },
   "outputs": [],
   "source": [
    "def get_data():\n",
    "    df = pd.read_csv(\"../machine_learning_examples/ann_logistic_extra/ecommerce_data.csv\")\n",
    "    data = df.as_matrix()\n",
    "    \n",
    "    X = data[:, :-1]\n",
    "    Y = data[:, -1]\n",
    "    \n",
    "    X[:,1] =  (X[:,1] - X[:,1].mean())/ X[:,1].std()\n",
    "    X[:,2] =  (X[:,2] - X[:,2].mean())/ X[:,2].std()\n",
    "    \n",
    "    N, D = X.shape\n",
    "    # create new matrix including one-hot encoding\n",
    "    X2 = np.zeros((N,D+3))\n",
    "    # 只有 time_of_the_day需要做one-hot encoding\n",
    "    # time_of_the_day  (1~3)\n",
    "    X2[:,0:(D-1)] = X[:, 0:(D-1)]\n",
    "    \n",
    "    for n in xrange(N):\n",
    "        t = int(X[n, D-1])\n",
    "        X2[n, D-1+t] = 1 \n",
    "        \n",
    "    Z = np.zeros((N, 4))\n",
    "    Z[np.arange(N), X[:,D-1].astype(np.int32)]=1\n",
    "    assert(np.abs(X2[:,-4:] - Z).sum() < 10e-10)\n",
    "    \n",
    "    return X2, Y"
   ]
  },
  {
   "cell_type": "code",
   "execution_count": 137,
   "metadata": {
    "collapsed": false
   },
   "outputs": [],
   "source": [
    "X2, Y = get_data()"
   ]
  },
  {
   "cell_type": "code",
   "execution_count": 139,
   "metadata": {
    "collapsed": false
   },
   "outputs": [
    {
     "data": {
      "text/plain": [
       "array([ 0.,  1.,  0.,  2.,  2.,  2.,  0.,  0.,  1.,  0.,  3.,  0.,  0.,\n",
       "        1.,  0.,  3.,  1.,  1.,  1.,  0.,  2.,  0.,  0.,  3.,  0.,  1.,\n",
       "        0.,  0.,  2.,  2.,  0.,  1.,  2.,  2.,  1.,  0.,  0.,  1.,  1.,\n",
       "        0.,  2.,  1.,  0.,  1.,  3.,  0.,  1.,  0.,  0.,  1.,  2.,  3.,\n",
       "        1.,  2.,  1.,  1.,  0.,  0.,  1.,  1.,  0.,  0.,  1.,  0.,  0.,\n",
       "        1.,  1.,  1.,  1.,  1.,  0.,  0.,  0.,  0.,  0.,  0.,  1.,  2.,\n",
       "        0.,  2.,  0.,  0.,  0.,  0.,  0.,  0.,  0.,  0.,  2.,  3.,  0.,\n",
       "        2.,  1.,  1.,  3.,  1.,  0.,  3.,  0.,  2.,  0.,  2.,  0.,  1.,\n",
       "        0.,  1.,  0.,  0.,  1.,  0.,  2.,  3.,  1.,  0.,  0.,  1.,  0.,\n",
       "        0.,  1.,  0.,  2.,  0.,  1.,  0.,  1.,  1.,  2.,  0.,  0.,  0.,\n",
       "        0.,  0.,  1.,  0.,  1.,  0.,  0.,  2.,  2.,  0.,  0.,  2.,  0.,\n",
       "        0.,  0.,  1.,  2.,  1.,  2.,  0.,  2.,  2.,  0.,  2.,  2.,  0.,\n",
       "        0.,  0.,  3.,  1.,  1.,  1.,  0.,  0.,  1.,  1.,  0.,  2.,  0.,\n",
       "        0.,  0.,  0.,  0.,  2.,  0.,  1.,  0.,  1.,  0.,  0.,  0.,  2.,\n",
       "        0.,  1.,  0.,  2.,  1.,  1.,  0.,  1.,  2.,  0.,  0.,  0.,  0.,\n",
       "        3.,  0.,  1.,  0.,  0.,  0.,  0.,  1.,  0.,  3.,  0.,  2.,  0.,\n",
       "        0.,  1.,  0.,  1.,  0.,  0.,  0.,  0.,  1.,  1.,  3.,  3.,  1.,\n",
       "        0.,  1.,  1.,  1.,  0.,  1.,  0.,  1.,  1.,  1.,  0.,  0.,  0.,\n",
       "        0.,  0.,  1.,  0.,  1.,  1.,  2.,  0.,  0.,  1.,  2.,  0.,  2.,\n",
       "        0.,  0.,  1.,  3.,  1.,  2.,  0.,  2.,  0.,  0.,  0.,  1.,  0.,\n",
       "        0.,  0.,  0.,  0.,  0.,  1.,  3.,  0.,  0.,  1.,  0.,  2.,  2.,\n",
       "        1.,  0.,  2.,  0.,  0.,  3.,  2.,  1.,  0.,  3.,  0.,  0.,  1.,\n",
       "        0.,  2.,  0.,  1.,  0.,  1.,  0.,  1.,  0.,  0.,  1.,  0.,  1.,\n",
       "        1.,  0.,  2.,  1.,  1.,  0.,  0.,  1.,  0.,  2.,  0.,  0.,  2.,\n",
       "        0.,  1.,  1.,  1.,  1.,  2.,  1.,  1.,  1.,  1.,  0.,  0.,  0.,\n",
       "        0.,  2.,  1.,  1.,  0.,  1.,  1.,  0.,  0.,  0.,  0.,  1.,  0.,\n",
       "        0.,  1.,  0.,  2.,  0.,  0.,  0.,  1.,  0.,  1.,  0.,  0.,  1.,\n",
       "        1.,  1.,  0.,  0.,  0.,  0.,  1.,  1.,  1.,  0.,  0.,  0.,  1.,\n",
       "        0.,  1.,  2.,  1.,  0.,  0.,  0.,  2.,  3.,  2.,  0.,  2.,  0.,\n",
       "        2.,  0.,  0.,  0.,  1.,  2.,  3.,  1.,  1.,  1.,  2.,  3.,  0.,\n",
       "        1.,  0.,  0.,  0.,  0.,  1.,  0.,  1.,  1.,  0.,  1.,  0.,  1.,\n",
       "        0.,  2.,  0.,  1.,  0.,  2.,  2.,  1.,  0.,  2.,  0.,  1.,  0.,\n",
       "        0.,  0.,  0.,  2.,  1.,  0.,  0.,  0.,  1.,  2.,  0.,  1.,  0.,\n",
       "        0.,  0.,  0.,  2.,  2.,  0.,  2.,  2.,  3.,  1.,  0.,  0.,  2.,\n",
       "        0.,  0.,  3.,  0.,  0.,  2.,  0.,  0.,  1.,  0.,  2.,  1.,  1.,\n",
       "        0.,  1.,  0.,  0.,  0.,  1.,  0.,  0.,  0.,  0.,  1.,  1.,  1.,\n",
       "        0.,  1.,  0.,  0.,  2.,  0.,  2.,  0.,  3.,  0.,  0.,  0.,  0.,\n",
       "        0.,  2.,  2.,  1.,  1.,  1.,  0.,  1.,  1.,  3.,  0.,  0.,  0.,\n",
       "        2.,  2.,  0.,  0.,  0.,  0.])"
      ]
     },
     "execution_count": 139,
     "metadata": {},
     "output_type": "execute_result"
    }
   ],
   "source": [
    "Y"
   ]
  },
  {
   "cell_type": "code",
   "execution_count": 141,
   "metadata": {
    "collapsed": true
   },
   "outputs": [],
   "source": [
    "def get_binary_data():\n",
    "    X, Y = get_data()\n",
    "    X2 = X[Y <= 1]\n",
    "    Y2 = Y[Y <= 1]\n",
    "    return X2, Y2"
   ]
  },
  {
   "cell_type": "markdown",
   "metadata": {},
   "source": [
    "## Prediction"
   ]
  },
  {
   "cell_type": "code",
   "execution_count": 142,
   "metadata": {
    "collapsed": true
   },
   "outputs": [],
   "source": [
    "X , Y = get_binary_data()"
   ]
  },
  {
   "cell_type": "code",
   "execution_count": 143,
   "metadata": {
    "collapsed": true
   },
   "outputs": [],
   "source": [
    "N, D = X.shape"
   ]
  },
  {
   "cell_type": "code",
   "execution_count": 144,
   "metadata": {
    "collapsed": true
   },
   "outputs": [],
   "source": [
    "W = np.random.randn(D)"
   ]
  },
  {
   "cell_type": "code",
   "execution_count": 145,
   "metadata": {
    "collapsed": true
   },
   "outputs": [],
   "source": [
    "b = 0"
   ]
  },
  {
   "cell_type": "code",
   "execution_count": 149,
   "metadata": {
    "collapsed": true
   },
   "outputs": [],
   "source": [
    "def sigmoid(a):\n",
    "    return 1 / (1 + np.exp(-a))"
   ]
  },
  {
   "cell_type": "code",
   "execution_count": 150,
   "metadata": {
    "collapsed": true
   },
   "outputs": [],
   "source": [
    "def forward(X, W, b):\n",
    "    return sigmoid(X.dot(W) + b)"
   ]
  },
  {
   "cell_type": "code",
   "execution_count": 151,
   "metadata": {
    "collapsed": false
   },
   "outputs": [],
   "source": [
    "P_Y_given_X = forward(X, W ,b)"
   ]
  },
  {
   "cell_type": "code",
   "execution_count": 154,
   "metadata": {
    "collapsed": false
   },
   "outputs": [],
   "source": [
    "prediction = np.round(P_Y_given_X)"
   ]
  },
  {
   "cell_type": "code",
   "execution_count": 155,
   "metadata": {
    "collapsed": true
   },
   "outputs": [],
   "source": [
    "def classfication_rate(Y, P):\n",
    "    return np.mean(Y == P)"
   ]
  },
  {
   "cell_type": "code",
   "execution_count": 157,
   "metadata": {
    "collapsed": false
   },
   "outputs": [
    {
     "name": "stdout",
     "output_type": "stream",
     "text": [
      "score: 0.683417085427\n"
     ]
    }
   ],
   "source": [
    "print (\"score: %s\" % classfication_rate(Y,prediction))"
   ]
  },
  {
   "cell_type": "code",
   "execution_count": null,
   "metadata": {
    "collapsed": true
   },
   "outputs": [],
   "source": [
    "    "
   ]
  },
  {
   "cell_type": "code",
   "execution_count": null,
   "metadata": {
    "collapsed": true
   },
   "outputs": [],
   "source": []
  },
  {
   "cell_type": "code",
   "execution_count": null,
   "metadata": {
    "collapsed": true
   },
   "outputs": [],
   "source": []
  },
  {
   "cell_type": "code",
   "execution_count": null,
   "metadata": {
    "collapsed": true
   },
   "outputs": [],
   "source": [
    "##################"
   ]
  },
  {
   "cell_type": "code",
   "execution_count": 85,
   "metadata": {
    "collapsed": true
   },
   "outputs": [],
   "source": [
    "df = pd.read_csv(\"../machine_learning_examples/ann_logistic_extra/ecommerce_data.csv\")\n",
    "data = df.as_matrix()\n",
    "    \n",
    "X = data[:, :-1]\n",
    "Y = data[:, -1]\n",
    "    \n",
    "X[:,1] =  (X[:,1] - X[:,1].mean())/ X[:,1].std()\n",
    "X[:,2] =  (X[:,2] - X[:,2].mean())/ X[:,2].std()\n",
    "    \n",
    "N, D = X.shape\n",
    "    # create new matrix including one-hot encoding\n",
    "X2 = np.zeros((N,D+3))\n",
    "# 只有 time_of_the_day需要做one-hot encoding\n",
    "    # time_of_the_day  (1~3)\n",
    "X2[:,0:(D-1)] = X[:, 0:(D-1)]\n",
    "    \n",
    "for n in xrange(N):\n",
    "    t = int(X[n, D-1])\n",
    "    X2[n, D-1+t] = 1 \n",
    "        \n",
    "Z = np.zeros((N, 4))"
   ]
  },
  {
   "cell_type": "code",
   "execution_count": 114,
   "metadata": {
    "collapsed": false
   },
   "outputs": [
    {
     "data": {
      "text/plain": [
       "(500, 4)"
      ]
     },
     "execution_count": 114,
     "metadata": {},
     "output_type": "execute_result"
    }
   ],
   "source": [
    "Z.shape"
   ]
  },
  {
   "cell_type": "code",
   "execution_count": 120,
   "metadata": {
    "collapsed": false
   },
   "outputs": [],
   "source": [
    "Z[np.arange(N), X[:,D-1].astype(np.int32)] = 1"
   ]
  },
  {
   "cell_type": "code",
   "execution_count": 125,
   "metadata": {
    "collapsed": false
   },
   "outputs": [
    {
     "data": {
      "text/plain": [
       "numpy.ndarray"
      ]
     },
     "execution_count": 125,
     "metadata": {},
     "output_type": "execute_result"
    }
   ],
   "source": [
    "type(X[:,D-1])"
   ]
  },
  {
   "cell_type": "code",
   "execution_count": 158,
   "metadata": {
    "collapsed": false
   },
   "outputs": [
    {
     "ename": "AttributeError",
     "evalue": "'module' object has no attribute 'arrange'",
     "output_type": "error",
     "traceback": [
      "\u001b[0;31m---------------------------------------------------------------------------\u001b[0m",
      "\u001b[0;31mAttributeError\u001b[0m                            Traceback (most recent call last)",
      "\u001b[0;32m<ipython-input-158-8ba384b6b80e>\u001b[0m in \u001b[0;36m<module>\u001b[0;34m()\u001b[0m\n\u001b[0;32m----> 1\u001b[0;31m \u001b[0mnp\u001b[0m\u001b[0;34m.\u001b[0m\u001b[0marrange\u001b[0m\u001b[0;34m(\u001b[0m\u001b[0;34m)\u001b[0m\u001b[0;34m\u001b[0m\u001b[0m\n\u001b[0m",
      "\u001b[0;31mAttributeError\u001b[0m: 'module' object has no attribute 'arrange'"
     ]
    }
   ],
   "source": [
    "np.arrange()"
   ]
  },
  {
   "cell_type": "markdown",
   "metadata": {},
   "source": [
    "## Gaussian and log(Gaussian) plot"
   ]
  },
  {
   "cell_type": "code",
   "execution_count": 211,
   "metadata": {
    "collapsed": true
   },
   "outputs": [],
   "source": [
    "import seaborn as sns\n",
    "import scipy"
   ]
  },
  {
   "cell_type": "code",
   "execution_count": 213,
   "metadata": {
    "collapsed": false
   },
   "outputs": [
    {
     "data": {
      "text/plain": [
       "0.053990966513188063"
      ]
     },
     "execution_count": 213,
     "metadata": {},
     "output_type": "execute_result"
    }
   ],
   "source": [
    "scipy.stats.norm.pdf(2)"
   ]
  },
  {
   "cell_type": "code",
   "execution_count": 214,
   "metadata": {
    "collapsed": true
   },
   "outputs": [],
   "source": [
    "x = np.linspace(-3, 3, 100)"
   ]
  },
  {
   "cell_type": "code",
   "execution_count": 215,
   "metadata": {
    "collapsed": true
   },
   "outputs": [],
   "source": [
    "y = scipy.stats.norm.pdf(x)"
   ]
  },
  {
   "cell_type": "code",
   "execution_count": 217,
   "metadata": {
    "collapsed": false
   },
   "outputs": [
    {
     "data": {
      "text/plain": [
       "[<matplotlib.lines.Line2D at 0x112769b10>]"
      ]
     },
     "execution_count": 217,
     "metadata": {},
     "output_type": "execute_result"
    },
    {
     "data": {
      "image/png": "[encoded data removed]",
      "text/plain": [
       "<matplotlib.figure.Figure at 0x11263c190>"
      ]
     },
     "metadata": {},
     "output_type": "display_data"
    }
   ],
   "source": [
    "sns.plt.plot(x,y)"
   ]
  },
  {
   "cell_type": "code",
   "execution_count": 219,
   "metadata": {
    "collapsed": false
   },
   "outputs": [],
   "source": [
    "log_y = np.log(y)"
   ]
  },
  {
   "cell_type": "code",
   "execution_count": 220,
   "metadata": {
    "collapsed": false
   },
   "outputs": [
    {
     "data": {
      "text/plain": [
       "[<matplotlib.lines.Line2D at 0x112984810>]"
      ]
     },
     "execution_count": 220,
     "metadata": {},
     "output_type": "execute_result"
    },
    {
     "data": {
      "image/png": "[encoded data removed]",
      "text/plain": [
       "<matplotlib.figure.Figure at 0x10b0503d0>"
      ]
     },
     "metadata": {},
     "output_type": "display_data"
    }
   ],
   "source": [
    "sns.plt.plot(x, log_y)"
   ]
  },
  {
   "cell_type": "code",
   "execution_count": 221,
   "metadata": {
    "collapsed": true
   },
   "outputs": [],
   "source": [
    "squar_y = y * y"
   ]
  },
  {
   "cell_type": "code",
   "execution_count": 222,
   "metadata": {
    "collapsed": false
   },
   "outputs": [
    {
     "data": {
      "text/plain": [
       "[<matplotlib.lines.Line2D at 0x112a9b350>]"
      ]
     },
     "execution_count": 222,
     "metadata": {},
     "output_type": "execute_result"
    },
    {
     "data": {
      "image/png": "[encoded data removed]",
      "text/plain": [
       "<matplotlib.figure.Figure at 0x1129c0910>"
      ]
     },
     "metadata": {},
     "output_type": "display_data"
    }
   ],
   "source": [
    "sns.plt.plot(x, squar_y)"
   ]
  },
  {
   "cell_type": "markdown",
   "metadata": {},
   "source": [
    "## logistic"
   ]
  },
  {
   "cell_type": "code",
   "execution_count": 1,
   "metadata": {
    "collapsed": true
   },
   "outputs": [],
   "source": [
    "import numpy as np"
   ]
  },
  {
   "cell_type": "code",
   "execution_count": 2,
   "metadata": {
    "collapsed": true
   },
   "outputs": [],
   "source": [
    "N = 100\n",
    "D = 2"
   ]
  },
  {
   "cell_type": "code",
   "execution_count": 3,
   "metadata": {
    "collapsed": true
   },
   "outputs": [],
   "source": [
    "X = np.random.randn(N, D)"
   ]
  },
  {
   "cell_type": "code",
   "execution_count": 4,
   "metadata": {
    "collapsed": false
   },
   "outputs": [
    {
     "data": {
      "text/plain": [
       "array([-1.09460797,  0.77611705])"
      ]
     },
     "execution_count": 4,
     "metadata": {},
     "output_type": "execute_result"
    }
   ],
   "source": [
    "X[0]"
   ]
  },
  {
   "cell_type": "code",
   "execution_count": 5,
   "metadata": {
    "collapsed": true
   },
   "outputs": [],
   "source": [
    "X[:50, :] = X[:50, :] - 2*np.ones((50,D))"
   ]
  },
  {
   "cell_type": "code",
   "execution_count": 6,
   "metadata": {
    "collapsed": false
   },
   "outputs": [
    {
     "data": {
      "text/plain": [
       "array([-3.09460797, -1.22388295])"
      ]
     },
     "execution_count": 6,
     "metadata": {},
     "output_type": "execute_result"
    }
   ],
   "source": [
    "X[0]"
   ]
  },
  {
   "cell_type": "code",
   "execution_count": 7,
   "metadata": {
    "collapsed": true
   },
   "outputs": [],
   "source": [
    "X[50:, :] = X[50:, :] + 2*np.ones((50, D))"
   ]
  },
  {
   "cell_type": "code",
   "execution_count": 32,
   "metadata": {
    "collapsed": false
   },
   "outputs": [
    {
     "data": {
      "text/plain": [
       "array([-3.09460797, -1.22388295])"
      ]
     },
     "execution_count": 32,
     "metadata": {},
     "output_type": "execute_result"
    }
   ],
   "source": [
    "X[0]"
   ]
  },
  {
   "cell_type": "code",
   "execution_count": 33,
   "metadata": {
    "collapsed": false
   },
   "outputs": [
    {
     "data": {
      "text/plain": [
       "array([[-3.09460797, -1.22388295],\n",
       "       [-1.85694746, -2.96521385],\n",
       "       [-3.19746189, -1.34916859],\n",
       "       [-4.21130155, -2.21003089],\n",
       "       [-2.96862735,  0.17410949],\n",
       "       [-1.71653279, -1.26340179],\n",
       "       [-3.40668005,  0.13175914],\n",
       "       [-0.55510237, -0.90495622],\n",
       "       [-3.58553397, -1.94775111],\n",
       "       [-1.35235069, -0.59871431],\n",
       "       [-0.69381335, -1.03667929],\n",
       "       [-2.34996084, -3.19194379],\n",
       "       [-4.46878418, -2.42648397],\n",
       "       [-2.98985864, -2.24585402],\n",
       "       [-2.97964461, -1.74981333],\n",
       "       [-1.98102993, -2.09782076],\n",
       "       [-2.52146891, -2.4886781 ],\n",
       "       [-2.99636112, -3.76110225],\n",
       "       [-1.57057041, -3.17323462],\n",
       "       [-1.88585935, -2.63767718],\n",
       "       [-1.66675761, -0.865735  ],\n",
       "       [-1.9713574 , -1.05412651],\n",
       "       [-0.76331653, -0.939845  ],\n",
       "       [-0.64318313, -2.72340746],\n",
       "       [-1.6611602 , -0.39123348],\n",
       "       [-2.78180514, -0.42406616],\n",
       "       [-1.85112236, -1.03075703],\n",
       "       [ 0.53736747, -2.12648289],\n",
       "       [-2.60045166, -1.61751198],\n",
       "       [-0.58875122, -2.53701914],\n",
       "       [-1.89377229, -2.97099694],\n",
       "       [-2.32840367, -0.49823545],\n",
       "       [-1.7100886 , -1.11034142],\n",
       "       [-0.18846388, -3.26571878],\n",
       "       [-4.06340448, -2.77143177],\n",
       "       [-1.61941685, -2.17862437],\n",
       "       [-3.57072848, -0.03620329],\n",
       "       [-1.35760031, -2.06768856],\n",
       "       [-2.84681194, -2.4960743 ],\n",
       "       [-2.46284409, -1.00364446],\n",
       "       [-2.02885893, -2.3315675 ],\n",
       "       [-2.70396514, -1.04080066],\n",
       "       [-1.94665975, -2.61373084],\n",
       "       [-0.04518893, -3.0538181 ],\n",
       "       [-0.49782364, -3.52838834],\n",
       "       [-2.42191977, -1.28813663],\n",
       "       [-0.04034495, -3.11514386],\n",
       "       [-2.54299923, -2.34469755],\n",
       "       [-1.48463301, -2.74685699],\n",
       "       [-3.69120921, -1.77016267],\n",
       "       [ 1.59893642,  0.20315069],\n",
       "       [ 2.70803706,  2.13297713],\n",
       "       [ 2.17935246,  0.85013127],\n",
       "       [ 5.17129582,  2.25067801],\n",
       "       [ 0.80281244,  2.42469083],\n",
       "       [ 1.82146062,  1.09775641],\n",
       "       [ 1.1216339 ,  3.01148772],\n",
       "       [ 1.67343377,  2.98743498],\n",
       "       [ 1.56697155,  2.06747475],\n",
       "       [ 1.80464855,  2.4035561 ],\n",
       "       [ 1.86182917,  0.95765451],\n",
       "       [ 1.66087608,  2.78537549],\n",
       "       [ 0.81957532,  0.34304047],\n",
       "       [ 1.58552   ,  2.06965295],\n",
       "       [ 1.73411595,  1.83919562],\n",
       "       [ 1.95753357,  2.57836315],\n",
       "       [ 1.14510803,  0.92266429],\n",
       "       [ 1.38025295,  2.48653409],\n",
       "       [ 3.42649282,  0.96316835],\n",
       "       [ 1.95646414,  0.61565452],\n",
       "       [ 2.12854567,  0.62844801],\n",
       "       [ 2.58202201,  0.05578524],\n",
       "       [ 1.40518746,  0.04272369],\n",
       "       [ 1.6819604 ,  1.98935882],\n",
       "       [ 3.03335236,  1.17808246],\n",
       "       [ 1.97965832,  4.62737264],\n",
       "       [ 1.14658626,  2.89787647],\n",
       "       [ 2.03043623,  2.53094135],\n",
       "       [ 1.15837894,  1.52070535],\n",
       "       [ 1.28071655,  2.22764824],\n",
       "       [ 0.60705701,  1.44094261],\n",
       "       [ 4.7944334 ,  2.55363817],\n",
       "       [ 1.9656908 ,  0.74700123],\n",
       "       [ 1.68719019,  1.89540318],\n",
       "       [ 2.50819613,  2.86314961],\n",
       "       [ 1.39820852,  1.98150769],\n",
       "       [ 0.38871083,  3.67721795],\n",
       "       [ 2.47415706,  3.2324861 ],\n",
       "       [ 1.84759635,  2.64037839],\n",
       "       [ 2.26655992,  1.72769021],\n",
       "       [ 2.95878749,  1.93937911],\n",
       "       [ 1.93479571,  2.02961329],\n",
       "       [ 1.21492926,  1.18146562],\n",
       "       [ 3.3882496 ,  1.56201497],\n",
       "       [ 1.25303289,  1.06883205],\n",
       "       [ 2.11694264,  2.6036041 ],\n",
       "       [ 1.6171156 ,  2.31342671],\n",
       "       [ 2.01996033,  2.92560347],\n",
       "       [ 3.44371585,  1.93177231],\n",
       "       [ 3.59869074,  1.96535034]])"
      ]
     },
     "execution_count": 33,
     "metadata": {},
     "output_type": "execute_result"
    }
   ],
   "source": [
    "X"
   ]
  },
  {
   "cell_type": "code",
   "execution_count": null,
   "metadata": {
    "collapsed": true
   },
   "outputs": [],
   "source": []
  },
  {
   "cell_type": "code",
   "execution_count": 9,
   "metadata": {
    "collapsed": true
   },
   "outputs": [],
   "source": [
    "T = np.array([0]*50+[1]*50)"
   ]
  },
  {
   "cell_type": "code",
   "execution_count": 10,
   "metadata": {
    "collapsed": true
   },
   "outputs": [],
   "source": [
    "ones = np.array([[1]*N]).T"
   ]
  },
  {
   "cell_type": "code",
   "execution_count": 11,
   "metadata": {
    "collapsed": true
   },
   "outputs": [],
   "source": [
    "Xb = np.concatenate((ones,X), axis=1)"
   ]
  },
  {
   "cell_type": "code",
   "execution_count": 12,
   "metadata": {
    "collapsed": false
   },
   "outputs": [],
   "source": [
    "w = np.random.randn(D+1)"
   ]
  },
  {
   "cell_type": "code",
   "execution_count": 13,
   "metadata": {
    "collapsed": true
   },
   "outputs": [],
   "source": [
    "z = Xb.dot(w)"
   ]
  },
  {
   "cell_type": "code",
   "execution_count": 14,
   "metadata": {
    "collapsed": false
   },
   "outputs": [],
   "source": [
    "def sigmoid(z):\n",
    "    return 1 / (1+np.exp(-z))"
   ]
  },
  {
   "cell_type": "code",
   "execution_count": 15,
   "metadata": {
    "collapsed": true
   },
   "outputs": [],
   "source": [
    "Y = sigmoid(z)"
   ]
  },
  {
   "cell_type": "code",
   "execution_count": 16,
   "metadata": {
    "collapsed": true
   },
   "outputs": [],
   "source": [
    "# T: 實際值\n",
    "# Y: 預測值\n",
    "def cross_entropy(T, Y):\n",
    "    return -sum(T*np.log(Y)+(1-T)*np.log(1-Y))"
   ]
  },
  {
   "cell_type": "code",
   "execution_count": 17,
   "metadata": {
    "collapsed": false
   },
   "outputs": [
    {
     "data": {
      "text/plain": [
       "82.248483442891001"
      ]
     },
     "execution_count": 17,
     "metadata": {},
     "output_type": "execute_result"
    }
   ],
   "source": [
    "cross_entropy(T,Y)"
   ]
  },
  {
   "cell_type": "code",
   "execution_count": 18,
   "metadata": {
    "collapsed": false
   },
   "outputs": [
    {
     "data": {
      "text/plain": [
       "0"
      ]
     },
     "execution_count": 18,
     "metadata": {},
     "output_type": "execute_result"
    }
   ],
   "source": [
    "T[0]"
   ]
  },
  {
   "cell_type": "code",
   "execution_count": 19,
   "metadata": {
    "collapsed": false
   },
   "outputs": [
    {
     "data": {
      "text/plain": [
       "0.69894979687397873"
      ]
     },
     "execution_count": 19,
     "metadata": {},
     "output_type": "execute_result"
    }
   ],
   "source": [
    "Y[0]"
   ]
  },
  {
   "cell_type": "code",
   "execution_count": 20,
   "metadata": {
    "collapsed": false
   },
   "outputs": [
    {
     "data": {
      "text/plain": [
       "-1.2004782403467085"
      ]
     },
     "execution_count": 20,
     "metadata": {},
     "output_type": "execute_result"
    }
   ],
   "source": [
    "np.log(1-Y[0])"
   ]
  },
  {
   "cell_type": "code",
   "execution_count": 21,
   "metadata": {
    "collapsed": false
   },
   "outputs": [
    {
     "data": {
      "text/plain": [
       "0.0"
      ]
     },
     "execution_count": 21,
     "metadata": {},
     "output_type": "execute_result"
    }
   ],
   "source": [
    "np.log(1)"
   ]
  },
  {
   "cell_type": "code",
   "execution_count": 22,
   "metadata": {
    "collapsed": true
   },
   "outputs": [],
   "source": [
    "w2 = np.array([0, 4, 4])"
   ]
  },
  {
   "cell_type": "code",
   "execution_count": 23,
   "metadata": {
    "collapsed": false
   },
   "outputs": [],
   "source": [
    "z2 = Xb.dot(w2)"
   ]
  },
  {
   "cell_type": "code",
   "execution_count": 24,
   "metadata": {
    "collapsed": false
   },
   "outputs": [],
   "source": [
    "Y2 = sigmoid(z2)"
   ]
  },
  {
   "cell_type": "code",
   "execution_count": 25,
   "metadata": {
    "collapsed": false
   },
   "outputs": [
    {
     "data": {
      "text/plain": [
       "0.021672366099269647"
      ]
     },
     "execution_count": 25,
     "metadata": {},
     "output_type": "execute_result"
    }
   ],
   "source": [
    "cross_entropy(T, Y2)"
   ]
  },
  {
   "cell_type": "markdown",
   "metadata": {
    "collapsed": true
   },
   "source": [
    "# visulization "
   ]
  },
  {
   "cell_type": "code",
   "execution_count": 26,
   "metadata": {
    "collapsed": true
   },
   "outputs": [],
   "source": [
    "%matplotlib inline\n",
    "import seaborn as sns"
   ]
  },
  {
   "cell_type": "code",
   "execution_count": 31,
   "metadata": {
    "collapsed": false
   },
   "outputs": [
    {
     "data": {
      "text/plain": [
       "<matplotlib.collections.PathCollection at 0x11122ce90>"
      ]
     },
     "execution_count": 31,
     "metadata": {},
     "output_type": "execute_result"
    },
    {
     "data": {
      "image/png": "[encoded data removed]",
      "text/plain": [
       "<matplotlib.figure.Figure at 0x11118bd90>"
      ]
     },
     "metadata": {},
     "output_type": "display_data"
    }
   ],
   "source": [
    "sns.plt.scatter(X[:,0], X[:,1], c=T, s=100, alpha=0.5)"
   ]
  },
  {
   "cell_type": "code",
   "execution_count": null,
   "metadata": {
    "collapsed": true
   },
   "outputs": [],
   "source": []
  },
  {
   "cell_type": "code",
   "execution_count": null,
   "metadata": {
    "collapsed": true
   },
   "outputs": [],
   "source": []
  },
  {
   "cell_type": "code",
   "execution_count": null,
   "metadata": {
    "collapsed": true
   },
   "outputs": [],
   "source": []
  },
  {
   "cell_type": "code",
   "execution_count": null,
   "metadata": {
    "collapsed": true
   },
   "outputs": [],
   "source": []
  },
  {
   "cell_type": "code",
   "execution_count": null,
   "metadata": {
    "collapsed": true
   },
   "outputs": [],
   "source": []
  }
 ],
 "metadata": {
  "kernelspec": {
   "display_name": "Python 2",
   "language": "python",
   "name": "python2"
  },
  "language_info": {
   "codemirror_mode": {
    "name": "ipython",
    "version": 2
   },
   "file_extension": ".py",
   "mimetype": "text/x-python",
   "name": "python",
   "nbconvert_exporter": "python",
   "pygments_lexer": "ipython2",
   "version": "2.7.11"
  }
 },
 "nbformat": 4,
 "nbformat_minor": 0
}
