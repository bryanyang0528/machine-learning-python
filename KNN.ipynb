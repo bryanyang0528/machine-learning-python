{
 "cells": [
  {
   "cell_type": "markdown",
   "metadata": {},
   "source": [
    "#k-nearest neighbors algorithm"
   ]
  },
  {
   "cell_type": "markdown",
   "metadata": {},
   "source": [
    "##reference \n",
    "* https://en.wikipedia.org/wiki/K-nearest_neighbors_algorithm\n",
    "* Machine Learning in Action"
   ]
  },
  {
   "cell_type": "code",
   "execution_count": 7,
   "metadata": {
    "collapsed": false
   },
   "outputs": [],
   "source": [
    "import numpy as np\n",
    "import operator"
   ]
  },
  {
   "cell_type": "code",
   "execution_count": 189,
   "metadata": {
    "collapsed": true
   },
   "outputs": [],
   "source": [
    "#create dataset\n",
    "def createDataset():\n",
    "    group = np.array([[1.0,1.1], [1.0,1.0], [0,0], [0,0.1]])\n",
    "    labels = [1, 1, 0, 0]\n",
    "    return group, labels"
   ]
  },
  {
   "cell_type": "code",
   "execution_count": 190,
   "metadata": {
    "collapsed": false
   },
   "outputs": [],
   "source": [
    "group, labels = createDataset()"
   ]
  },
  {
   "cell_type": "code",
   "execution_count": 412,
   "metadata": {
    "collapsed": false
   },
   "outputs": [
    {
     "data": {
      "text/plain": [
       "array([[ 1. ,  1.1],\n",
       "       [ 1. ,  1. ],\n",
       "       [ 0. ,  0. ],\n",
       "       [ 0. ,  0.1]])"
      ]
     },
     "execution_count": 412,
     "metadata": {},
     "output_type": "execute_result"
    }
   ],
   "source": [
    "group"
   ]
  },
  {
   "cell_type": "code",
   "execution_count": 413,
   "metadata": {
    "collapsed": false
   },
   "outputs": [
    {
     "data": {
      "text/plain": [
       "[1, 1, 0, 0]"
      ]
     },
     "execution_count": 413,
     "metadata": {},
     "output_type": "execute_result"
    }
   ],
   "source": [
    "labels"
   ]
  },
  {
   "cell_type": "code",
   "execution_count": 410,
   "metadata": {
    "collapsed": false
   },
   "outputs": [],
   "source": [
    "def knn(x, dataset, labels, k):\n",
    "    ##計算x與各點之間距離\n",
    "    distance = (((group - x) ** 2).sum(axis=1)) ** 0.5\n",
    "    ##創造候選人array\n",
    "    ##將距離和label結合\n",
    "    distance = np.vstack((distance,labels)).T\n",
    "    \n",
    "    #初始值\n",
    "    candidate = np.sort(distance[:k], axis=0)\n",
    "        \n",
    "    for i in range(k, len(distance)):\n",
    "        #print candidate\n",
    "        if distance[i][0] < candidate[:,0].any():\n",
    "            ##把最大的數踢走，加入剛剛小的數字\n",
    "            candidate = np.sort(np.vstack((candidate[:-1,:], distance[i])), axis=0)\n",
    "                     \n",
    "    result=np.zeros(len(candidate))\n",
    "    for i in candidate[:,1]:\n",
    "        result[i] += 1\n",
    "\n",
    "    return np.argmax(result)"
   ]
  },
  {
   "cell_type": "code",
   "execution_count": 414,
   "metadata": {
    "collapsed": false
   },
   "outputs": [
    {
     "data": {
      "text/plain": [
       "0"
      ]
     },
     "execution_count": 414,
     "metadata": {},
     "output_type": "execute_result"
    }
   ],
   "source": [
    "knn([0,0], group, labels, 2)"
   ]
  }
 ],
 "metadata": {
  "kernelspec": {
   "display_name": "Python 2",
   "language": "python",
   "name": "python2"
  },
  "language_info": {
   "codemirror_mode": {
    "name": "ipython",
    "version": 2
   },
   "file_extension": ".py",
   "mimetype": "text/x-python",
   "name": "python",
   "nbconvert_exporter": "python",
   "pygments_lexer": "ipython2",
   "version": "2.7.6"
  }
 },
 "nbformat": 4,
 "nbformat_minor": 0
}
